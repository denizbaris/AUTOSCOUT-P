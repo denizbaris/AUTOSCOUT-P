{
  "nbformat": 4,
  "nbformat_minor": 0,
  "metadata": {
    "colab": {
      "name": "AutoScout Data Analysis Project.ipynb",
      "provenance": [],
      "mount_file_id": "1iu4QU2s60J9vONDDwDW3qjBL6pZMggzU",
      "authorship_tag": "ABX9TyP83N6YzbE2iq6nFZwTM5Ri",
      "include_colab_link": true
    },
    "kernelspec": {
      "name": "python3",
      "display_name": "Python 3"
    },
    "language_info": {
      "name": "python"
    }
  },
  "cells": [
    {
      "cell_type": "markdown",
      "metadata": {
        "id": "view-in-github",
        "colab_type": "text"
      },
      "source": [
        "<a href=\"https://colab.research.google.com/github/nadireus/AUTOSCOUT-P/blob/main/AutoScout_Data_Analysis_Project.ipynb\" target=\"_parent\"><img src=\"https://colab.research.google.com/assets/colab-badge.svg\" alt=\"Open In Colab\"/></a>"
      ]
    },
    {
      "cell_type": "code",
      "execution_count": 2,
      "metadata": {
        "id": "8VkFNNk4nFWM"
      },
      "outputs": [],
      "source": [
        "import numpy as np\n",
        "import pandas as pd\n"
      ]
    },
    {
      "cell_type": "code",
      "source": [
        "import matplotlib.pyplot as plt\n",
        "import scipy \n",
        "import stat as st\n",
        "import seaborn as sn"
      ],
      "metadata": {
        "id": "bdGLAssfngfc"
      },
      "execution_count": 3,
      "outputs": []
    },
    {
      "cell_type": "code",
      "source": [
        "import json"
      ],
      "metadata": {
        "id": "QPcgG31kV8iB"
      },
      "execution_count": 6,
      "outputs": []
    },
    {
      "cell_type": "code",
      "source": [
        "import dummy_threading"
      ],
      "metadata": {
        "id": "3bfVoymYqKgp"
      },
      "execution_count": 4,
      "outputs": []
    },
    {
      "cell_type": "code",
      "source": [
        "df=pd.read_json(\"scout_car.json\", lines=True)"
      ],
      "metadata": {
        "id": "ob3KXQU9jEhg"
      },
      "execution_count": 10,
      "outputs": []
    }
  ]
}